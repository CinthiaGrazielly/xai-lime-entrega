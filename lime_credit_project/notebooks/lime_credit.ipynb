{
 "cells": [
  {
   "cell_type": "markdown",
   "metadata": {},
   "source": [
    "# Explicando Modelos de Crédito com LIME\n",
    "Este notebook treina um modelo de crédito e aplica o LIME para gerar explicações locais."
   ]
  },
  {
   "cell_type": "code",
   "execution_count": null,
   "metadata": {},
   "outputs": [],
   "source": [
    "import pandas as pd\n",
    "import numpy as np\n",
    "import matplotlib.pyplot as plt\n",
    "from sklearn.model_selection import train_test_split\n",
    "from sklearn.ensemble import RandomForestClassifier\n",
    "from sklearn.metrics import classification_report\n",
    "import lime\n",
    "import lime.lime_tabular\n",
    "\n",
    "# Dataset sintético simplificado\n",
    "from sklearn.datasets import make_classification\n",
    "X, y = make_classification(n_samples=1000, n_features=10, random_state=42)\n",
    "\n",
    "feature_names = [f'feature_{i}' for i in range(X.shape[1])]\n",
    "X_train, X_test, y_train, y_test = train_test_split(X, y, test_size=0.2, random_state=42)\n",
    "\n",
    "# Modelo\n",
    "model = RandomForestClassifier(random_state=42)\n",
    "model.fit(X_train, y_train)\n",
    "print(classification_report(y_test, model.predict(X_test)))"
   ]
  },
  {
   "cell_type": "code",
   "execution_count": null,
   "metadata": {},
   "outputs": [],
   "source": [
    "# Aplicando LIME\n",
    "explainer = lime.lime_tabular.LimeTabularExplainer(\n",
    "    training_data=X_train,\n",
    "    feature_names=feature_names,\n",
    "    class_names=['Mau Risco', 'Bom Risco'],\n",
    "    mode='classification'\n",
    ")\n",
    "\n",
    "# Escolher um exemplo\n",
    "i = 10\n",
    "exp = explainer.explain_instance(X_test[i], model.predict_proba, num_features=5)\n",
    "fig = exp.as_pyplot_figure()\n",
    "plt.savefig('../images/lime_example.png')\n",
    "plt.show()"
   ]
  }
 ],
 "metadata": {
  "kernelspec": {
   "display_name": "Python 3",
   "language": "python",
   "name": "python3"
  },
  "language_info": {
   "name": "python",
   "version": "3.8"
  }
 },
 "nbformat": 4,
 "nbformat_minor": 2
}
